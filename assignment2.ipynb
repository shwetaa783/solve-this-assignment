{
 "cells": [
  {
   "cell_type": "code",
   "execution_count": 1,
   "id": "7557d186-006a-4e65-a7a6-cd4b67d18fa9",
   "metadata": {},
   "outputs": [],
   "source": [
    "#calculate the sum,difference,product,and quotient of two numbers"
   ]
  },
  {
   "cell_type": "code",
   "execution_count": 2,
   "id": "db20c100-f4fa-4473-b529-2ee5c3749c2f",
   "metadata": {},
   "outputs": [
    {
     "data": {
      "text/plain": [
       "30"
      ]
     },
     "execution_count": 2,
     "metadata": {},
     "output_type": "execute_result"
    }
   ],
   "source": [
    "a=10\n",
    "b=20\n",
    "a+b"
   ]
  },
  {
   "cell_type": "code",
   "execution_count": 3,
   "id": "f8b45d74-0c11-413c-88d5-be84bc3abc3b",
   "metadata": {},
   "outputs": [
    {
     "data": {
      "text/plain": [
       "-10"
      ]
     },
     "execution_count": 3,
     "metadata": {},
     "output_type": "execute_result"
    }
   ],
   "source": [
    "a-b"
   ]
  },
  {
   "cell_type": "code",
   "execution_count": 4,
   "id": "46682a48-0eeb-4ee9-af44-e95ef11e9277",
   "metadata": {},
   "outputs": [
    {
     "data": {
      "text/plain": [
       "200"
      ]
     },
     "execution_count": 4,
     "metadata": {},
     "output_type": "execute_result"
    }
   ],
   "source": [
    "a*b"
   ]
  },
  {
   "cell_type": "code",
   "execution_count": 5,
   "id": "8ba338d3-8f0a-4626-92c4-fa3034b5061c",
   "metadata": {},
   "outputs": [
    {
     "data": {
      "text/plain": [
       "0.5"
      ]
     },
     "execution_count": 5,
     "metadata": {},
     "output_type": "execute_result"
    }
   ],
   "source": [
    "a/b"
   ]
  },
  {
   "cell_type": "code",
   "execution_count": 6,
   "id": "b3b16fa1-6bbc-464f-a89e-02eb41a4f9e7",
   "metadata": {},
   "outputs": [],
   "source": [
    "#perform various assignment operations on a variable"
   ]
  },
  {
   "cell_type": "code",
   "execution_count": 8,
   "id": "fe170f35-5e12-490a-b0ff-c666dc8cec42",
   "metadata": {},
   "outputs": [],
   "source": [
    "a=10\n",
    "b=20\n"
   ]
  },
  {
   "cell_type": "code",
   "execution_count": 9,
   "id": "da175cf5-044e-4e56-9f13-72146b258c2b",
   "metadata": {},
   "outputs": [],
   "source": [
    "a=a+5"
   ]
  },
  {
   "cell_type": "code",
   "execution_count": 10,
   "id": "97f05124-1924-4baf-ad75-ff7555fe1389",
   "metadata": {},
   "outputs": [
    {
     "data": {
      "text/plain": [
       "15"
      ]
     },
     "execution_count": 10,
     "metadata": {},
     "output_type": "execute_result"
    }
   ],
   "source": [
    "a"
   ]
  },
  {
   "cell_type": "code",
   "execution_count": 12,
   "id": "5178fdfb-03e6-43fb-93d4-2f94b40eaec0",
   "metadata": {},
   "outputs": [],
   "source": [
    "a=5-b"
   ]
  },
  {
   "cell_type": "code",
   "execution_count": 13,
   "id": "75a1b357-c258-4dd8-a585-309292399f37",
   "metadata": {},
   "outputs": [
    {
     "data": {
      "text/plain": [
       "-15"
      ]
     },
     "execution_count": 13,
     "metadata": {},
     "output_type": "execute_result"
    }
   ],
   "source": [
    "a"
   ]
  },
  {
   "cell_type": "code",
   "execution_count": 14,
   "id": "0ed1465b-5fbc-4444-abfd-dc4173578c27",
   "metadata": {},
   "outputs": [],
   "source": [
    "#compare two numbers and print the result"
   ]
  },
  {
   "cell_type": "code",
   "execution_count": 15,
   "id": "60918a57-d883-4f97-b766-347abe308602",
   "metadata": {},
   "outputs": [
    {
     "data": {
      "text/plain": [
       "True"
      ]
     },
     "execution_count": 15,
     "metadata": {},
     "output_type": "execute_result"
    }
   ],
   "source": [
    "1==1"
   ]
  },
  {
   "cell_type": "code",
   "execution_count": 16,
   "id": "384c6be4-edb0-49b4-b39c-7c3f8b3fa585",
   "metadata": {},
   "outputs": [
    {
     "data": {
      "text/plain": [
       "False"
      ]
     },
     "execution_count": 16,
     "metadata": {},
     "output_type": "execute_result"
    }
   ],
   "source": [
    "2>4"
   ]
  },
  {
   "cell_type": "code",
   "execution_count": 17,
   "id": "967a136d-ae8b-4c7c-8e9d-87ac4366184d",
   "metadata": {},
   "outputs": [],
   "source": [
    "#check conditions using logical operators"
   ]
  },
  {
   "cell_type": "code",
   "execution_count": 18,
   "id": "abc9f029-c075-429d-82b2-f880416f91e5",
   "metadata": {},
   "outputs": [
    {
     "data": {
      "text/plain": [
       "1"
      ]
     },
     "execution_count": 18,
     "metadata": {},
     "output_type": "execute_result"
    }
   ],
   "source": [
    "1 and 1"
   ]
  },
  {
   "cell_type": "code",
   "execution_count": 20,
   "id": "bc7bcb02-aa8e-4522-9a6e-cb4e9a67c724",
   "metadata": {},
   "outputs": [
    {
     "data": {
      "text/plain": [
       "0"
      ]
     },
     "execution_count": 20,
     "metadata": {},
     "output_type": "execute_result"
    }
   ],
   "source": [
    "1 and 0"
   ]
  },
  {
   "cell_type": "code",
   "execution_count": 21,
   "id": "04491325-a3dd-48db-9b7c-4dcf969a6034",
   "metadata": {},
   "outputs": [
    {
     "data": {
      "text/plain": [
       "1"
      ]
     },
     "execution_count": 21,
     "metadata": {},
     "output_type": "execute_result"
    }
   ],
   "source": [
    "1 or 1"
   ]
  },
  {
   "cell_type": "code",
   "execution_count": 22,
   "id": "78a45631-f7c7-49dd-8f67-f3dc71253a7e",
   "metadata": {},
   "outputs": [
    {
     "data": {
      "text/plain": [
       "1"
      ]
     },
     "execution_count": 22,
     "metadata": {},
     "output_type": "execute_result"
    }
   ],
   "source": [
    "1 or 0"
   ]
  },
  {
   "cell_type": "code",
   "execution_count": 28,
   "id": "b1886b44-e288-4046-a36c-7c1256349391",
   "metadata": {},
   "outputs": [
    {
     "data": {
      "text/plain": [
       "-2"
      ]
     },
     "execution_count": 28,
     "metadata": {},
     "output_type": "execute_result"
    }
   ],
   "source": [
    "~1"
   ]
  },
  {
   "cell_type": "code",
   "execution_count": 30,
   "id": "772315c8-5b80-4914-a4fe-378241936c38",
   "metadata": {},
   "outputs": [
    {
     "data": {
      "text/plain": [
       "-3"
      ]
     },
     "execution_count": 30,
     "metadata": {},
     "output_type": "execute_result"
    }
   ],
   "source": [
    "~2"
   ]
  },
  {
   "cell_type": "code",
   "execution_count": 31,
   "id": "55f68ea3-3d3d-4548-a9bb-88a542466468",
   "metadata": {},
   "outputs": [],
   "source": [
    "#check the identity of variables"
   ]
  },
  {
   "cell_type": "code",
   "execution_count": 32,
   "id": "56582663-3ff5-4569-986c-56302d4d929d",
   "metadata": {},
   "outputs": [],
   "source": [
    "a=[1,2,3,4]\n",
    "b=a"
   ]
  },
  {
   "cell_type": "code",
   "execution_count": 33,
   "id": "b6190b13-9173-4f41-a501-4523c97704ba",
   "metadata": {},
   "outputs": [
    {
     "data": {
      "text/plain": [
       "list"
      ]
     },
     "execution_count": 33,
     "metadata": {},
     "output_type": "execute_result"
    }
   ],
   "source": [
    "type(b)"
   ]
  },
  {
   "cell_type": "code",
   "execution_count": 36,
   "id": "39576d75-37c4-456d-85df-6ebe749d83a6",
   "metadata": {},
   "outputs": [
    {
     "data": {
      "text/plain": [
       "[1, 2, 3, 4]"
      ]
     },
     "execution_count": 36,
     "metadata": {},
     "output_type": "execute_result"
    }
   ],
   "source": [
    "b"
   ]
  },
  {
   "cell_type": "code",
   "execution_count": 37,
   "id": "130372c2-d898-4df4-b29f-9034ccc4df7a",
   "metadata": {},
   "outputs": [],
   "source": [
    "#perform bitwise operations on any two integers"
   ]
  },
  {
   "cell_type": "code",
   "execution_count": 38,
   "id": "141a448b-bfd9-4426-a92b-b940e655d168",
   "metadata": {},
   "outputs": [
    {
     "name": "stdout",
     "output_type": "stream",
     "text": [
      "<built-in function bin>\n"
     ]
    }
   ],
   "source": [
    "a=10 \n",
    "b=20\n",
    "print(bin)"
   ]
  },
  {
   "cell_type": "code",
   "execution_count": 39,
   "id": "46192c16-9a59-4109-84cd-8f9efb3122da",
   "metadata": {},
   "outputs": [
    {
     "data": {
      "text/plain": [
       "'0b1010'"
      ]
     },
     "execution_count": 39,
     "metadata": {},
     "output_type": "execute_result"
    }
   ],
   "source": [
    "bin(a)"
   ]
  },
  {
   "cell_type": "code",
   "execution_count": 40,
   "id": "c8f4d994-b66e-4d65-8e76-d65c04ee5d17",
   "metadata": {},
   "outputs": [
    {
     "data": {
      "text/plain": [
       "'0b10100'"
      ]
     },
     "execution_count": 40,
     "metadata": {},
     "output_type": "execute_result"
    }
   ],
   "source": [
    "bin(b)"
   ]
  },
  {
   "cell_type": "code",
   "execution_count": 41,
   "id": "f24563fa-4b87-45f4-aa4d-17642462b853",
   "metadata": {},
   "outputs": [],
   "source": [
    "#use binary operators to change the sign of a numbers"
   ]
  },
  {
   "cell_type": "code",
   "execution_count": 42,
   "id": "56161f92-01e6-4808-8f35-0d3962265d84",
   "metadata": {},
   "outputs": [],
   "source": [
    "a=10\n",
    "b=20"
   ]
  },
  {
   "cell_type": "code",
   "execution_count": 43,
   "id": "497ee06b-2dbe-437e-ac44-ae2c1e1cf0d2",
   "metadata": {},
   "outputs": [
    {
     "data": {
      "text/plain": [
       "'0b1010'"
      ]
     },
     "execution_count": 43,
     "metadata": {},
     "output_type": "execute_result"
    }
   ],
   "source": [
    "bin(a)"
   ]
  },
  {
   "cell_type": "code",
   "execution_count": 44,
   "id": "5e9e3a87-6911-412e-b5b1-d6f383471a60",
   "metadata": {},
   "outputs": [
    {
     "data": {
      "text/plain": [
       "'0b10100'"
      ]
     },
     "execution_count": 44,
     "metadata": {},
     "output_type": "execute_result"
    }
   ],
   "source": [
    "bin(b)"
   ]
  },
  {
   "cell_type": "code",
   "execution_count": 46,
   "id": "6e24674b-95f1-40bb-ba83-1ff5847cf690",
   "metadata": {},
   "outputs": [
    {
     "data": {
      "text/plain": [
       "20"
      ]
     },
     "execution_count": 46,
     "metadata": {},
     "output_type": "execute_result"
    }
   ],
   "source": [
    "a and b"
   ]
  },
  {
   "cell_type": "code",
   "execution_count": 47,
   "id": "edcce870-e4ea-4962-8142-20fc6f1341bf",
   "metadata": {},
   "outputs": [
    {
     "data": {
      "text/plain": [
       "10"
      ]
     },
     "execution_count": 47,
     "metadata": {},
     "output_type": "execute_result"
    }
   ],
   "source": [
    "a or b "
   ]
  },
  {
   "cell_type": "code",
   "execution_count": 48,
   "id": "d9bbe3cc-610e-4ea6-87b0-008bd4900118",
   "metadata": {},
   "outputs": [
    {
     "data": {
      "text/plain": [
       "-11"
      ]
     },
     "execution_count": 48,
     "metadata": {},
     "output_type": "execute_result"
    }
   ],
   "source": [
    "~a"
   ]
  },
  {
   "cell_type": "code",
   "execution_count": 49,
   "id": "2e464e0c-c73b-42c4-a3a1-2119e0d771d9",
   "metadata": {},
   "outputs": [],
   "source": [
    "#use the ternary operator to assign values based on conditions"
   ]
  },
  {
   "cell_type": "code",
   "execution_count": 3,
   "id": "b99e96ba-191d-48dc-ae61-2d5acc284921",
   "metadata": {},
   "outputs": [],
   "source": [
    "a=20\n",
    "if\n"
   ]
  },
  {
   "cell_type": "code",
   "execution_count": null,
   "id": "5ba9104d-bdfa-4eeb-a374-723627d52902",
   "metadata": {},
   "outputs": [],
   "source": []
  }
 ],
 "metadata": {
  "kernelspec": {
   "display_name": "Python 3 (ipykernel)",
   "language": "python",
   "name": "python3"
  },
  "language_info": {
   "codemirror_mode": {
    "name": "ipython",
    "version": 3
   },
   "file_extension": ".py",
   "mimetype": "text/x-python",
   "name": "python",
   "nbconvert_exporter": "python",
   "pygments_lexer": "ipython3",
   "version": "3.10.8"
  }
 },
 "nbformat": 4,
 "nbformat_minor": 5
}
